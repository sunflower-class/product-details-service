{
 "cells": [
  {
   "cell_type": "markdown",
   "id": "29dfceba",
   "metadata": {},
   "source": [
    "# chroma DB 생성"
   ]
  },
  {
   "cell_type": "code",
   "execution_count": 1,
   "id": "3144969e",
   "metadata": {},
   "outputs": [],
   "source": [
    "import chromadb\n",
    "\n",
    "client = chromadb.PersistentClient(path=\"./chroma_db\")\n",
    "collection = client.get_or_create_collection(name=\"html_template_search_engine\")"
   ]
  },
  {
   "cell_type": "code",
   "execution_count": 2,
   "id": "caf5573e",
   "metadata": {},
   "outputs": [
    {
     "name": "stdout",
     "output_type": "stream",
     "text": [
      "✅ CSV 파일 불러오기 성공!\n"
     ]
    }
   ],
   "source": [
    "import pandas as pd\n",
    "\n",
    "try:\n",
    "    df = pd.read_csv('data.csv')\n",
    "    print(\"✅ CSV 파일 불러오기 성공!\")\n",
    "except FileNotFoundError:\n",
    "    print(\"❌ 'data.csv' 파일을 찾을 수 없습니다. 파일 경로를 확인하세요.\")\n",
    "    exit()\n",
    "\n",
    "collection.add(\n",
    "    ids=df['id'].astype(str).tolist(),\n",
    "    documents=df['concept_style'].tolist(),\n",
    "    metadatas = df[['block_type', 'template', 'category']].to_dict('records'),\n",
    ")"
   ]
  },
  {
   "cell_type": "code",
   "execution_count": 4,
   "id": "0d0653d2",
   "metadata": {},
   "outputs": [
    {
     "name": "stdout",
     "output_type": "stream",
     "text": [
      "\n",
      "--- 검색 결과 ---\n",
      "{'ids': [['1', '2', '28']], 'embeddings': None, 'documents': [['깔끔한 흰색 배경에 보라색 포인트 컬러를 사용하여 공지사항임을 명확히 전달하는 스타일입니다. 제품 사진을 오른쪽에 배치하여 어떤 제품에 대한 공지인지 쉽게 알 수 있도록 구성했습니다.', '세리프와 산세리프 폰트를 조화롭게 사용하여 고급스럽고 클래식한 분위기를 연출하는 인트로 스타일입니다. 중앙 정렬과 여백을 활용하여 시선을 집중시키고 제품의 핵심 가치를 전달합니다.', '제품의 사용 환경을 연상시키는 감성적인 라이프스타일 컷을 활용한 스타일입니다. 부드러운 조명과 그림자 효과를 사용하여 고급스럽고 세련된 분위기를 연출하며, 원형 아이콘으로 제품의 특징을 간결하게 전달합니다.']], 'uris': None, 'included': ['metadatas', 'documents', 'distances'], 'data': None, 'metadatas': [[{'block_type': 'Introduction', 'category': '생활용품', 'template': \"<div style='background-color: #f8f8f8; padding: 50px 0; font-family: 'Noto Sans KR', sans-serif;'><div style='display: flex; justify-content: center; align-items: center; max-width: 1000px; margin: auto;'><div style='flex: 1; padding-right: 40px;'><span style='display: inline-block; background-color: #4B2E6E; color: white; padding: 5px 15px; font-weight: bold; font-size: 16px;'>NOTICE</span><h2 style='font-size: 36px; font-weight: bold; color: #333; line-height: 1.4; margin-top: 15px;'>쿤달 딥 클린 항균 칫솔<br>부드러운모<br>혼재출고 안내</h2><p style='font-size: 14px; color: #666; margin-top: 20px;'>쿤달 딥 클린 항균 칫솔 부드러운모는 제조사 표기가 상이한<br>두 제품이 혼재되어 출고될 수 있음을 알려드립니다.<br>기존 제품과 효과 및 품질은 동일하니 구매에 참고 부탁드립니다.</p></div><div style='flex: 1;'><img src='[컬러풀한 칫솔들이 투명한 원통형 용기에 담겨있는 제품 사진]' alt='쿤달 딥 클린 항균 칫솔 제품' style='width: 100%; max-width: 350px;'/></div></div></div>\"}, {'category': '생활용품', 'template': \"<div style='text-align: center; padding: 60px 20px; background-color: #ffffff;'><h2 style='font-family: 'Helvetica', sans-serif; font-weight: 300; font-size: 30px; color: #000; letter-spacing: 2px;'>KUNDAL</h2><h1 style='font-family: 'Times New Roman', serif; font-weight: bold; font-size: 48px; color: #000; margin-top: 5px;'>DEEP CLEAN TOOTHBRUSH</h1><hr style='width: 50px; border: 1px solid #000; margin: 30px auto;'/><p style='font-family: 'Noto Sans KR', sans-serif; font-size: 18px; color: #333;'>부드러운 초극세모로 잇몸까지 깨끗하게</p><img src='[알록달록한 6가지 색상의 쿤달 칫솔이 투명한 원통형 케이스에 담겨있는 누끼 이미지]' alt='쿤달 딥 클린 칫솔' style='width: 100%; max-width: 500px; margin-top: 40px;'/></div>\", 'block_type': 'Introduction'}, {'category': '생활용품', 'template': \"<div style='background-color:#fff; text-align:center; padding:40px 20px; position:relative;'><img src='[여러 화장품과 함께 놓인 클렌징 오일 제품 클로즈업 샷, 야자수 잎 그림자 효과]' style='width:90%;'><div style='position:absolute; bottom:30px; right:30px; display:flex; gap:5px;'><span style='width:60px; height:60px; border-radius:50%; background-color:#fdebd0; display:flex; align-items:center; justify-content:center; font-size:10px; color:#e67e22;'>오일<br>제형</span><span style='width:60px; height:60px; border-radius:50%; background-color:#fdebd0; display:flex; align-items:center; justify-content:center; font-size:10px; color:#e67e22;'>모든<br>피부용</span></div></div>\", 'block_type': 'Introduction'}]], 'distances': [[0.40948259830474854, 0.6085615754127502, 0.6102381348609924]]}\n",
      "[['깔끔한 흰색 배경에 보라색 포인트 컬러를 사용하여 공지사항임을 명확히 전달하는 스타일입니다. 제품 사진을 오른쪽에 배치하여 어떤 제품에 대한 공지인지 쉽게 알 수 있도록 구성했습니다.', '세리프와 산세리프 폰트를 조화롭게 사용하여 고급스럽고 클래식한 분위기를 연출하는 인트로 스타일입니다. 중앙 정렬과 여백을 활용하여 시선을 집중시키고 제품의 핵심 가치를 전달합니다.', '제품의 사용 환경을 연상시키는 감성적인 라이프스타일 컷을 활용한 스타일입니다. 부드러운 조명과 그림자 효과를 사용하여 고급스럽고 세련된 분위기를 연출하며, 원형 아이콘으로 제품의 특징을 간결하게 전달합니다.']]\n",
      "[[0.40948259830474854, 0.6085615754127502, 0.6102381348609924]]\n",
      "<div style='background-color: #f8f8f8; padding: 50px 0; font-family: 'Noto Sans KR', sans-serif;'><div style='display: flex; justify-content: center; align-items: center; max-width: 1000px; margin: auto;'><div style='flex: 1; padding-right: 40px;'><span style='display: inline-block; background-color: #4B2E6E; color: white; padding: 5px 15px; font-weight: bold; font-size: 16px;'>NOTICE</span><h2 style='font-size: 36px; font-weight: bold; color: #333; line-height: 1.4; margin-top: 15px;'>쿤달 딥 클린 항균 칫솔<br>부드러운모<br>혼재출고 안내</h2><p style='font-size: 14px; color: #666; margin-top: 20px;'>쿤달 딥 클린 항균 칫솔 부드러운모는 제조사 표기가 상이한<br>두 제품이 혼재되어 출고될 수 있음을 알려드립니다.<br>기존 제품과 효과 및 품질은 동일하니 구매에 참고 부탁드립니다.</p></div><div style='flex: 1;'><img src='[컬러풀한 칫솔들이 투명한 원통형 용기에 담겨있는 제품 사진]' alt='쿤달 딥 클린 항균 칫솔 제품' style='width: 100%; max-width: 350px;'/></div></div></div>\n",
      "[\"<div style='background-color: #f8f8f8; padding: 50px 0; font-family: 'Noto Sans KR', sans-serif;'><div style='display: flex; justify-content: center; align-items: center; max-width: 1000px; margin: auto;'><div style='flex: 1; padding-right: 40px;'><span style='display: inline-block; background-color: #4B2E6E; color: white; padding: 5px 15px; font-weight: bold; font-size: 16px;'>NOTICE</span><h2 style='font-size: 36px; font-weight: bold; color: #333; line-height: 1.4; margin-top: 15px;'>쿤달 딥 클린 항균 칫솔<br>부드러운모<br>혼재출고 안내</h2><p style='font-size: 14px; color: #666; margin-top: 20px;'>쿤달 딥 클린 항균 칫솔 부드러운모는 제조사 표기가 상이한<br>두 제품이 혼재되어 출고될 수 있음을 알려드립니다.<br>기존 제품과 효과 및 품질은 동일하니 구매에 참고 부탁드립니다.</p></div><div style='flex: 1;'><img src='[컬러풀한 칫솔들이 투명한 원통형 용기에 담겨있는 제품 사진]' alt='쿤달 딥 클린 항균 칫솔 제품' style='width: 100%; max-width: 350px;'/></div></div></div>\", \"<div style='text-align: center; padding: 60px 20px; background-color: #ffffff;'><h2 style='font-family: 'Helvetica', sans-serif; font-weight: 300; font-size: 30px; color: #000; letter-spacing: 2px;'>KUNDAL</h2><h1 style='font-family: 'Times New Roman', serif; font-weight: bold; font-size: 48px; color: #000; margin-top: 5px;'>DEEP CLEAN TOOTHBRUSH</h1><hr style='width: 50px; border: 1px solid #000; margin: 30px auto;'/><p style='font-family: 'Noto Sans KR', sans-serif; font-size: 18px; color: #333;'>부드러운 초극세모로 잇몸까지 깨끗하게</p><img src='[알록달록한 6가지 색상의 쿤달 칫솔이 투명한 원통형 케이스에 담겨있는 누끼 이미지]' alt='쿤달 딥 클린 칫솔' style='width: 100%; max-width: 500px; margin-top: 40px;'/></div>\", \"<div style='background-color:#fff; text-align:center; padding:40px 20px; position:relative;'><img src='[여러 화장품과 함께 놓인 클렌징 오일 제품 클로즈업 샷, 야자수 잎 그림자 효과]' style='width:90%;'><div style='position:absolute; bottom:30px; right:30px; display:flex; gap:5px;'><span style='width:60px; height:60px; border-radius:50%; background-color:#fdebd0; display:flex; align-items:center; justify-content:center; font-size:10px; color:#e67e22;'>오일<br>제형</span><span style='width:60px; height:60px; border-radius:50%; background-color:#fdebd0; display:flex; align-items:center; justify-content:center; font-size:10px; color:#e67e22;'>모든<br>피부용</span></div></div>\"]\n"
     ]
    }
   ],
   "source": [
    "results = collection.query(\n",
    "    query_texts=[\"모던하고 세련된 디자인으로, 부드러운 곡선과 자연스러운 색감을 강조하여 제품의 감성적인 특성을 부각시킴.\"],\n",
    "    where={\n",
    "        \"$and\": [\n",
    "            {\"block_type\":\"Introduction\"},\n",
    "            {\"category\":\"생활용품\"}\n",
    "        ]\n",
    "    },\n",
    "    n_results=3\n",
    ")\n",
    "\n",
    "print(\"\\n--- 검색 결과 ---\")\n",
    "print(results)\n",
    "print(results['documents'])\n",
    "print(results['distances'])\n",
    "print(results['metadatas'][0][0]['template'])\n",
    "print([x['template'] for x in results['metadatas'][0]])\n"
   ]
  },
  {
   "cell_type": "code",
   "execution_count": null,
   "id": "281275f3",
   "metadata": {},
   "outputs": [],
   "source": []
  }
 ],
 "metadata": {
  "kernelspec": {
   "display_name": "venv",
   "language": "python",
   "name": "python3"
  },
  "language_info": {
   "codemirror_mode": {
    "name": "ipython",
    "version": 3
   },
   "file_extension": ".py",
   "mimetype": "text/x-python",
   "name": "python",
   "nbconvert_exporter": "python",
   "pygments_lexer": "ipython3",
   "version": "3.10.12"
  }
 },
 "nbformat": 4,
 "nbformat_minor": 5
}
