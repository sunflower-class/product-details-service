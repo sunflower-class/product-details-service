{
 "cells": [
  {
   "cell_type": "code",
   "execution_count": 1,
   "id": "3f61af77",
   "metadata": {},
   "outputs": [
    {
     "name": "stdout",
     "output_type": "stream",
     "text": [
      "sk-svcacct\n"
     ]
    }
   ],
   "source": [
    "import os\n",
    "from dotenv import load_dotenv\n",
    "\n",
    "# .env 파일에서 환경 변수를 로드합니다.\n",
    "load_dotenv()\n",
    "\n",
    "# os.environ을 사용하여 환경 변수를 가져옵니다.\n",
    "OPENAI_API_KEY = os.getenv(\"OPENAI_API_KEY\")\n",
    "\n",
    "if not OPENAI_API_KEY:\n",
    "    raise ValueError(\"OPENAI_API_KEY 환경 변수가 설정되어 있지 않습니다.\")\n",
    "\n",
    "print(OPENAI_API_KEY[:10]) # 테스트 후 삭제"
   ]
  },
  {
   "cell_type": "code",
   "execution_count": 2,
   "id": "3dc7e51d",
   "metadata": {},
   "outputs": [],
   "source": [
    "from typing import Annotated, TypedDict, List, Literal\n",
    "from langgraph.graph import StateGraph, START, END\n",
    "from langgraph.graph.message import add_messages\n",
    "\n",
    "from langchain_openai import ChatOpenAI\n",
    "# from langchain_core.messages import SystemMessage, AIMessage, HumanMessage, AnyMessage\n",
    "from langchain_core.tools import tool\n",
    "from langchain_core.output_parsers import StrOutputParser\n",
    "from langchain_core.prompts import ChatPromptTemplate\n",
    "from pydantic import BaseModel, Field"
   ]
  },
  {
   "cell_type": "code",
   "execution_count": 39,
   "id": "3f732b81",
   "metadata": {},
   "outputs": [],
   "source": [
    "import chromadb\n",
    "\n",
    "client = chromadb.PersistentClient(path=\"./_data/chroma_db\")\n",
    "collection = client.get_or_create_collection(name=\"html_template_search_engine\")"
   ]
  },
  {
   "cell_type": "code",
   "execution_count": null,
   "id": "9e1374a3",
   "metadata": {},
   "outputs": [],
   "source": [
    "# -------------------------------------------------------------\n",
    "# 1. Pydantic으로 데이터 구조 정의\n",
    "# -------------------------------------------------------------\n",
    "\n",
    "BlockType = Literal[\n",
    "    \"Introduction\", \"KeyFeatures\", \"Specifications\", \"UsageGuide\", \"Comparison\", \"BrandStory\", \"FAQ\"\n",
    "]\n",
    "\n",
    "class StyleConcept(BaseModel):\n",
    "    \"\"\"페이지 전체에 적용될 공통 디자인 컨셉입니다.\"\"\"\n",
    "    concept_name: str = Field(description=\"이 스타일 컨셉의 이름 (예: '미니멀 클린', '네온 펑크')\")\n",
    "    color_palette: str = Field(description=\"페이지의 주요 색상, 배경색, 텍스트 색상\")\n",
    "    font_style: str = Field(description=\"제목과 본문에 사용할 폰트 스타일\")\n",
    "    overall_mood: str = Field(description=\"페이지가 전달해야 할 전체적인 분위기\")\n",
    "    css_inspiration: str = Field(description=\"HTML/CSS 작업 시 참고할 스타일링 가이드\")\n",
    "\n",
    "class ConceptBlock(BaseModel):\n",
    "    \"\"\"HTML 생성을 위한 블록 별 스타일 컨셉 및 내용 정보입니다.\"\"\"\n",
    "    block_type: BlockType = Field(description=\"블럭의 시맨틱한 유형\")\n",
    "    content: str = Field(description=\"\"\"블럭에 들어가야 할 제품의 정보, 내용을 담습니다. 구체적으로 세세하게 작성해야 합니다.\"\"\")\n",
    "    concept_style: str = Field(\n",
    "        description=\"\"\"이 블럭의 HTML/CSS 코드를 생성하기 위한 '콘셉트 스타일'을 작성하세요.\n",
    "        레이아웃, 컴포넌트, 텍스트 톤앤매너, 이미지 배치 등에 대한 콘셉트 스타일을 구체적으로 세세하게 전부 명시해야 합니다. \n",
    "        블럭에 들어갈 콘텐츠 내용과 어울려야 합니다.\"\"\"\n",
    "    )\n",
    "\n",
    "class ProductPage(BaseModel):\n",
    "    \"\"\"상품 상세 페이지 전체 구조입니다.\"\"\"\n",
    "    style_concept: StyleConcept = Field(description=\"페이지 전체의 일관된 스타일 가이드\")\n",
    "    concept_blocks: List[ConceptBlock] = Field(\n",
    "        description=\"상품 상세 페이지의 콘셉 스타일을 구성하는 블럭 리스트\",\n",
    "        min_items=1,\n",
    "    )\n"
   ]
  },
  {
   "cell_type": "code",
   "execution_count": 46,
   "id": "ba7231d0",
   "metadata": {},
   "outputs": [],
   "source": [
    "@tool\n",
    "def get_block_template(block_type: BlockType, concept_style: str) -> List[str]:\n",
    "    \"\"\"\n",
    "    지정된 블록 타입과 관련 콘셉트 스타일을 기반으로\n",
    "    상품 상세 페이지의 특정 블록에 대한 설계도를 생성합니다.\n",
    "\n",
    "    Args:\n",
    "        block_type: 생성할 블록의 유형입니다.\n",
    "        concept_style: 블록에 어울리는 콘셉트 스타일입니다.\n",
    "\n",
    "    Return: concept_style 과 관련된 html 코드 템플릿을 3개 가져옵니다.\n",
    "    \"\"\"\n",
    "\n",
    "    results = collection.query(\n",
    "        query_texts=[concept_style],\n",
    "        where={\n",
    "            \"$and\": [\n",
    "                {\"block_type\":block_type},\n",
    "                {\"category\":\"생활용품\"}\n",
    "            ]\n",
    "        },\n",
    "        n_results=3\n",
    "    )\n",
    "\n",
    "    templates = [x['template'] for x in results['metadatas'][0]]\n",
    "    return templates\n",
    "    "
   ]
  },
  {
   "cell_type": "code",
   "execution_count": 55,
   "id": "3d589cd8",
   "metadata": {},
   "outputs": [],
   "source": [
    "# -------------------------------------------------------------\n",
    "# 2. LangChain 및 모델 설정\n",
    "# -------------------------------------------------------------\n",
    "\n",
    "def generate_product_page_layout(product_info: str) -> ProductPage:\n",
    "    \"\"\"\n",
    "    상품 정보를 분석하여, HTML 생성을 위한 페이지 '설계도'를 생성합니다.\n",
    "    (공통 스타일 컨셉 + 각 블럭별 통합 코딩 지시서)\n",
    "    \"\"\"\n",
    "    llm = ChatOpenAI(\n",
    "        model=\"gpt-4o-mini\",\n",
    "        temperature=0.2,\n",
    "        api_key=os.getenv(\"OPENAI_API_KEY\")\n",
    "    )\n",
    "    structured_llm = llm.with_structured_output(ProductPage)\n",
    "\n",
    "    # 이미지 지시사항을 통합하고, 특별 태그 사용을 명시, LLM의 역할을 명확히 하고, 금지 조항과 예시를 추가하여 제어 강화\n",
    "    system_prompt = \"\"\"\n",
    "    당신은 개발자를 위한 최종적이고 상세한 청사진을 만드는 세계적인 아트 디렉터입니다.\n",
    "    출력물은 `style_concept`와 `ConceptBlock` 목록을 포함하는 Pydantic 객체여야 합니다.\n",
    "    각 `ConceptBlock` 내부의 `concept_style`, `content`는 반드시 상세한 내용으로 구성된 단일 문자열이어야 합니다.\n",
    "\n",
    "    **핵심 지침**\n",
    "    1. **크리에이티브 디렉터가 되세요:** 각 블록에 대해 구체적이고 창의적이며 적절한 시각적 스타일을 고안하세요. 모든 것에 하나의 스타일을 사용하지 마세요. 블록의 목적을 생각하고 그에 따라 디자인하세요.\n",
    "    2. **선택적 생성:** `product_info`에 충분한 정보가 있는 경우에만 블록을 생성하세요. 콘텐츠를 새로 만들지 마세요.\n",
    "    3. **동일한 여러 블록타입 사용(선택):** 블록타입은 중복하여 사용 가능합니다. 긴 내용을 하나의 블록에 전부 담지 말고 분할하여 만드세요.\n",
    "    3. **한국어 사용:** 모든 언어는 한국어를 사용해야합니다.\n",
    "    \"\"\"\n",
    "    # **--- `html_generation_prompt`의 핵심 지침 ---**\n",
    "\n",
    "    # 1. **크리에이티브 디렉터가 되세요:** 각 블록에 대해 구체적이고 창의적이며 적절한 시각적 스타일을 고안하세요. 모든 것에 하나의 스타일을 사용하지 마세요. 블록의 목적을 생각하고 그에 따라 디자인하세요.\n",
    "    # 2. **매우 구체적으로 작성하세요:** 추상적인 용어는 사용하지 마세요.\n",
    "    # - 나쁨: \"현대적으로 보이도록 하세요.\"\n",
    "    # - 좋음: \"`justify-content: space-between`을 적용한 플렉스박스 레이아웃을 사용하세요. 간결하고 깔끔한 느낌을 위해 메인 헤드라인은 `letter-spacing: -0.02em`을 적용해야 합니다.\"\n",
    "    # 3. **이중 언어 콘텐츠:** 모든 지침은 반드시 영어로 작성해야 합니다. 모든 고객 대상 텍스트(헤드라인, 단락)는 반드시 한국어로 작성해야 합니다.\n",
    "    # 4. **정적 이미지만 사용:** 최종 결과물은 정적 이미지입니다. 애니메이션이나 호버 효과를 포함해서는 안 됩니다.\n",
    "    # 5. **이미지 태그:** `[DALLE_IMAGE: ...]` 또는 `[PRODUCT_IMAGE: ...]`를 사용하여 이미지 배치 방법을 안내하세요.\n",
    "    # 6. **선택적 생성:** `product_info`에 충분한 정보가 있는 경우에만 블록을 생성하세요. 콘텐츠를 새로 만들지 마세요.\n",
    "    # \"\"\"\n",
    "\n",
    "    human_prompt = \"{product_info}\"\n",
    "    prompt = ChatPromptTemplate.from_messages([\n",
    "        (\"system\", system_prompt),\n",
    "        (\"human\", human_prompt)\n",
    "    ])\n",
    "\n",
    "    chain = prompt | structured_llm\n",
    "    return chain.invoke({\"product_info\": product_info})"
   ]
  },
  {
   "cell_type": "code",
   "execution_count": 56,
   "id": "b6344937",
   "metadata": {},
   "outputs": [],
   "source": [
    "detailed_product_info = \"\"\"\n",
    "AURA Smart Mood Speaker (모델명: AURA-7)\n",
    "\"당신의 공간과 감정을 빛과 소리로 디자인합니다.\"\n",
    "\n",
    "AURA는 단순한 스피커가 아닙니다. 사용자의 목소리 톤, 대화 내용, 시간, 그리고 연결된 캘린더의 일정을 실시간으로 분석하여 현재 감정 상태에 가장 적합한 음악과 조명을 자동으로 큐레이션하는 인공지능 감성 조명 스피커입니다. 바쁜 아침에는 활기찬 음악과 태양광과 유사한 조명으로 활력을, 고요한 저녁에는 차분한 연주곡과 촛불처럼 은은한 조명으로 평온을 선사합니다.\n",
    "\n",
    "## 주요 특징 (Key Features)\n",
    "실시간 감성 분석 AI, 'Lumi': AURA의 핵심인 'Lumi' AI는 4개의 고감도 마이크 어레이를 통해 사용자의 음성을 분석하고, 미세한 감정 변화를 감지합니다. \"오늘 좀 피곤하네\"라는 혼잣말만으로도, AURA는 재충전에 도움이 되는 사운드와 조명 테라피를 제안합니다.\n",
    "\n",
    "360° 몰입형 공간 음향: 독일의 명품 오디오 브랜드 'Klang & Stille'과의 협업으로 탄생한 3개의 풀레인지 드라이버와 1개의 듀얼 패시브 라디에이터가 360° 모든 방향으로 균일하고 풍부한 사운드를 전달합니다. 청취자의 위치를 파악해 실시간으로 사운드를 최적화하는 '어댑티브 EQ' 기술이 탑재되어 있습니다.\n",
    "\n",
    "1,600만 컬러 다이나믹 앰비언트 라이트: 음악의 비트와 리듬에 맞춰 춤추는 라이트 쇼부터, 실제 일출과 일몰의 색 변화를 그대로 재현하는 '서카디안 리듬 모드'까지 지원합니다. 아침에는 부드러운 주황빛으로 시작해 정오에는 밝은 백색광으로, 저녁에는 따뜻한 색감으로 자동 변경되어 건강한 생체리듬 유지를 돕습니다.\n",
    "\n",
    "차세대 스마트홈 허브: 최신 통신 표준인 Matter와 Thread를 동시 지원하여, 집 안의 다른 스마트 기기들을 위한 강력하고 안정적인 허브 역할을 수행합니다. 조명, 온도 조절기, 블라인드 등을 AURA에게 음성으로 손쉽게 제어할 수 있습니다.\n",
    "\n",
    "개인정보 보호 최우선 설계: 모든 음성 데이터는 기기 내부의 'AURA Hexa-Core NPU' 칩셋에서 처리되는 것을 원칙으로 합니다. 또한, 원터치로 마이크를 물리적으로 차단하는 프라이버시 스위치가 탑재되어 있습니다.\n",
    "\n",
    "## 기술 사양 (Technical Specifications)\n",
    "오디오\n",
    "\n",
    "드라이버: 1.5인치 풀레인지 드라이버 x 3, 듀얼 포스 캔슬링 패시브 라디에이터 x 1\n",
    "\n",
    "주파수 응답: 55Hz - 22,000Hz\n",
    "\n",
    "오디오 기술: 360° 공간 음향, 어댑티브 EQ, Dolby Atmos 지원\n",
    "\n",
    "조명\n",
    "\n",
    "LED: 90개의 커스텀 RGBW LED\n",
    "\n",
    "색상 표현: 1,600만 색상\n",
    "\n",
    "최대 밝기: 800 루멘\n",
    "\n",
    "연결성\n",
    "\n",
    "Wi-Fi: Wi-Fi 6E (802.11ax)\n",
    "\n",
    "Bluetooth: Bluetooth 5.3\n",
    "\n",
    "스마트홈 프로토콜: Matter, Thread, Zigbee\n",
    "\n",
    "AI 및 센서\n",
    "\n",
    "프로세서: AURA Hexa-Core NPU (On-Device AI)\n",
    "\n",
    "마이크: 4-mic Far-field Array (빔포밍 기술 적용)\n",
    "\n",
    "센서: 온도 센서, 습도 센서, 조도 센서\n",
    "\n",
    "규격\n",
    "\n",
    "크기: 180mm (높이) x 140mm (직경)\n",
    "\n",
    "무게: 1.2 kg\n",
    "\n",
    "소재: 재활용 알루미늄, Kvadrat 어쿠스틱 패브릭\n",
    "\n",
    "## 구성품 및 기타\n",
    "구성품: AURA-7 본체, 30W USB-C 전원 어댑터, 1.5m 패브릭 USB-C 케이블, 빠른 시작 가이드\n",
    "\n",
    "색상 옵션: 미드나잇 애쉬 (Midnight Ash), 글레이셔 실버 (Glacier Silver)\n",
    "\n",
    "가격 및 출시 정보: 349,000원 (2025년 9월 1일 출시 예정)\n",
    "\n",
    "타겟 고객:\n",
    "\n",
    "최신 기술과 디자인에 민감한 테크 얼리어답터\n",
    "\n",
    "음악 감상과 인테리어를 중요하게 생각하는 20-40대\n",
    "\n",
    "명상, 요가 등 웰니스 활동을 즐기며 마음의 안정을 추구하는 사용자\n",
    "\n",
    "## 자주 묻는 질문 (FAQ)\n",
    "Q: AURA 구독 서비스가 필요한가요?\n",
    "\n",
    "A: 기본적인 AI 음악/조명 큐레이션 및 스마트홈 기능은 모두 무료입니다. 다만, 전문 심리상담사와 협업하여 제작된 '프리미엄 마인드풀니스' 콘텐츠(가이드 명상, 집중력 향상 사운드 등)는 월 4,900원의 구독이 필요합니다.\n",
    "\n",
    "Q: 기존에 사용하던 스포티파이, 유튜브 뮤직과 연동되나요?\n",
    "\n",
    "A: 네, 스포티파이 커넥트와 구글 캐스트를 모두 지원하여 기존에 사용하시던 앱에서 손쉽게 음악을 재생할 수 있습니다.\n",
    "\n",
    "Q: 조명만 끄고 음악만 들을 수 있나요?\n",
    "\n",
    "A: 네, \"오라, 조명 꺼줘\" 또는 앱을 통해 언제든지 조명과 음악을 개별적으로 제어할 수 있습니다.\n",
    "\"\"\"\n",
    "\n",
    "page_layout = generate_product_page_layout(detailed_product_info)"
   ]
  },
  {
   "cell_type": "code",
   "execution_count": 57,
   "id": "cc56143a",
   "metadata": {},
   "outputs": [
    {
     "data": {
      "text/plain": [
       "StyleConcept(concept_name='감성 조화', color_palette='부드러운 파스텔 톤과 자연을 연상시키는 색상 조합 (민트 그린, 라벤더, 따뜻한 베이지)', font_style='모던하고 세련된 산세리프체, 부드러운 곡선이 강조된 글꼴', overall_mood='편안하고 아늑한 분위기, 감정의 흐름을 느낄 수 있는 따뜻한 느낌', css_inspiration='미니멀리즘과 자연 요소를 결합한 디자인, 부드러운 그라디언트 배경과 간결한 레이아웃')"
      ]
     },
     "metadata": {},
     "output_type": "display_data"
    },
    {
     "data": {
      "text/plain": [
       "[ConceptBlock(block_type='Introduction', content='AURA Smart Mood Speaker는 단순한 스피커가 아닌, 사용자의 감정 상태를 분석하여 최적의 음악과 조명을 제공하는 인공지능 감성 조명 스피커입니다. 바쁜 아침에는 활기찬 음악과 태양광과 유사한 조명으로 활력을, 고요한 저녁에는 차분한 연주곡과 은은한 조명으로 평온을 선사합니다.', concept_style='부드러운 파스텔 색상과 자연을 연상시키는 디자인 요소를 활용하여, 감정의 흐름을 시각적으로 표현합니다. 사용자 경험을 강조하는 직관적인 레이아웃과 함께, 따뜻한 느낌의 폰트를 사용하여 친근감을 더합니다.'),\n",
       " ConceptBlock(block_type='KeyFeatures', content='1. 실시간 감성 분석 AI, \\'Lumi\\': AURA의 핵심인 \\'Lumi\\' AI는 4개의 고감도 마이크 어레이를 통해 사용자의 음성을 분석하고, 미세한 감정 변화를 감지합니다. \"오늘 좀 피곤하네\"라는 혼잣말만으로도, AURA는 재충전에 도움이 되는 사운드와 조명 테라피를 제안합니다.\\n\\n2. 360° 몰입형 공간 음향: 독일의 명품 오디오 브랜드 \\'Klang & Stille\\'과의 협업으로 탄생한 3개의 풀레인지 드라이버와 1개의 듀얼 패시브 라디에이터가 360° 모든 방향으로 균일하고 풍부한 사운드를 전달합니다. 청취자의 위치를 파악해 실시간으로 사운드를 최적화하는 \\'어댑티브 EQ\\' 기술이 탑재되어 있습니다.\\n\\n3. 1,600만 컬러 다이나믹 앰비언트 라이트: 음악의 비트와 리듬에 맞춰 춤추는 라이트 쇼부터, 실제 일출과 일몰의 색 변화를 그대로 재현하는 \\'서카디안 리듬 모드\\'까지 지원합니다. 아침에는 부드러운 주황빛으로 시작해 정오에는 밝은 백색광으로, 저녁에는 따뜻한 색감으로 자동 변경되어 건강한 생체리듬 유지를 돕습니다.\\n\\n4. 차세대 스마트홈 허브: 최신 통신 표준인 Matter와 Thread를 동시 지원하여, 집 안의 다른 스마트 기기들을 위한 강력하고 안정적인 허브 역할을 수행합니다. 조명, 온도 조절기, 블라인드 등을 AURA에게 음성으로 손쉽게 제어할 수 있습니다.\\n\\n5. 개인정보 보호 최우선 설계: 모든 음성 데이터는 기기 내부의 \\'AURA Hexa-Core NPU\\' 칩셋에서 처리되는 것을 원칙으로 합니다. 또한, 원터치로 마이크를 물리적으로 차단하는 프라이버시 스위치가 탑재되어 있습니다.', concept_style='각 기능의 독창성을 강조하기 위해, 각 기능에 맞는 아이콘과 그래픽 요소를 사용하여 시각적으로 매력적인 레이아웃을 구성합니다. 색상은 부드러운 톤을 유지하며, 사용자 친화적인 인터페이스를 제공합니다.'),\n",
       " ConceptBlock(block_type='Specifications', content='오디오\\n\\n드라이버: 1.5인치 풀레인지 드라이버 x 3, 듀얼 포스 캔슬링 패시브 라디에이터 x 1\\n\\n주파수 응답: 55Hz - 22,000Hz\\n\\n오디오 기술: 360° 공간 음향, 어댑티브 EQ, Dolby Atmos 지원\\n\\n조명\\n\\nLED: 90개의 커스텀 RGBW LED\\n\\n색상 표현: 1,600만 색상\\n\\n최대 밝기: 800 루멘\\n\\n연결성\\n\\nWi-Fi: Wi-Fi 6E (802.11ax)\\n\\nBluetooth: Bluetooth 5.3\\n\\n스마트홈 프로토콜: Matter, Thread, Zigbee\\n\\nAI 및 센서\\n\\n프로세서: AURA Hexa-Core NPU (On-Device AI)\\n\\n마이크: 4-mic Far-field Array (빔포밍 기술 적용)\\n\\n센서: 온도 센서, 습도 센서, 조도 센서\\n\\n규격\\n\\n크기: 180mm (높이) x 140mm (직경)\\n\\n무게: 1.2 kg\\n\\n소재: 재활용 알루미늄, Kvadrat 어쿠스틱 패브릭', concept_style='기술 사양을 명확하게 전달하기 위해, 표 형식으로 정리하여 가독성을 높입니다. 각 사양 항목은 아이콘과 함께 시각적으로 구분하여 사용자가 쉽게 이해할 수 있도록 디자인합니다.'),\n",
       " ConceptBlock(block_type='UsageGuide', content='AURA Smart Mood Speaker를 사용하기 위해서는 먼저 전원을 연결하고, 스마트폰 앱을 통해 초기 설정을 진행합니다. 이후 음성 명령이나 앱을 통해 음악과 조명을 제어할 수 있습니다. 예를 들어, \"오라, 저녁 모드로 바꿔줘\"라고 말하면 AURA가 자동으로 저녁에 적합한 음악과 조명으로 설정해 줍니다.', concept_style='사용자 가이드는 단계별로 명확하게 설명하여, 사용자가 쉽게 따라할 수 있도록 돕습니다. 각 단계는 일러스트와 함께 제공하여 시각적인 이해를 돕습니다.'),\n",
       " ConceptBlock(block_type='FAQ', content='Q: AURA 구독 서비스가 필요한가요?\\n\\nA: 기본적인 AI 음악/조명 큐레이션 및 스마트홈 기능은 모두 무료입니다. 다만, 전문 심리상담사와 협업하여 제작된 \\'프리미엄 마인드풀니스\\' 콘텐츠(가이드 명상, 집중력 향상 사운드 등)는 월 4,900원의 구독이 필요합니다.\\n\\nQ: 기존에 사용하던 스포티파이, 유튜브 뮤직과 연동되나요?\\n\\nA: 네, 스포티파이 커넥트와 구글 캐스트를 모두 지원하여 기존에 사용하시던 앱에서 손쉽게 음악을 재생할 수 있습니다.\\n\\nQ: 조명만 끄고 음악만 들을 수 있나요?\\n\\nA: 네, \"오라, 조명 꺼줘\" 또는 앱을 통해 언제든지 조명과 음악을 개별적으로 제어할 수 있습니다.', concept_style='자주 묻는 질문 섹션은 명확하고 간결하게 정보를 제공하여 사용자가 궁금증을 쉽게 해결할 수 있도록 합니다. 각 질문은 강조된 제목과 함께 제공하여 가독성을 높입니다.')]"
      ]
     },
     "metadata": {},
     "output_type": "display_data"
    }
   ],
   "source": [
    "display(page_layout.style_concept)\n",
    "display(page_layout.concept_blocks)"
   ]
  },
  {
   "cell_type": "code",
   "execution_count": 127,
   "id": "ceb30f9e",
   "metadata": {},
   "outputs": [],
   "source": [
    "def markdown_to_html(markdown_text: str) -> str:\n",
    "    \"\"\"\n",
    "    마크다운 형식의 코드 블럭 문자열에서 순수한 HTML 코드만 추출합니다.\n",
    "    \"\"\"\n",
    "    # 앞뒤의 불필요한 공백이나 개행 문자를 먼저 제거합니다.\n",
    "    clean_text = markdown_text.strip()\n",
    "    \n",
    "    # '```html'로 시작하는 경우, 해당 부분을 제거합니다.\n",
    "    if clean_text.startswith(\"```html\"):\n",
    "        clean_text = clean_text[7:]\n",
    "        \n",
    "    # '```'로 끝나는 경우, 해당 부분을 제거합니다.\n",
    "    if clean_text.endswith(\"```\"):\n",
    "        clean_text = clean_text[:-3]\n",
    "\n",
    "    clean_text = clean_text.replace(\"\\n\", \"\")\n",
    "    return clean_text.strip()"
   ]
  },
  {
   "cell_type": "code",
   "execution_count": 133,
   "id": "8e0dd50c",
   "metadata": {},
   "outputs": [],
   "source": [
    "# -------------------------------------------------------------\n",
    "# 4. 템플릿 사용하여 블록 html 만들기\n",
    "# -------------------------------------------------------------\n",
    "\n",
    "def create_html_block(block: any, style: StyleConcept) -> str:\n",
    "    enhancer_llm = ChatOpenAI(model=\"gpt-4o-mini\", temperature=0.3, api_key=os.getenv(\"OPENAI_API_KEY\"))\n",
    "    system_prompt = \"\"\"\n",
    "    당신은 세계 최고 수준의 아트 디렉터입니다. 당신의 임무는 html 템플릿들과 유사도 정보, 들어가야 할 내용을 받아, 블럭의 컨셉에 맞는 독창적이고 상세한 시각적 html 블럭를 완성하는 것입니다.\n",
    "    \n",
    "    **핵심 가이드 원칙**\n",
    "\n",
    "    1.  **컨셉의 시각화:** 블럭이 전달하고자 하는 핵심 메시지(예: '혁신적인 기술', '편안함', '신뢰도')를 내용을 보고 시각적으로 어떻게 표현할지 깊이 고민하세요. 템플릿과 공통 컨셉 스타일을 참고하여 색상, 레이아웃, 타이포그래피, 여백 등을 통해 해당 컨셉을 구체화해야 합니다.\n",
    "    2.  **정적인 임팩트:** 최종 결과물은 정적인 이미지입니다. 따라서 움직임(애니메이션, 호버 효과) 없이도 시선을 사로잡고 정보가 명확히 전달될 수 있는 강렬한 시각적 디자인을 구상해야 합니다.\n",
    "    \n",
    "    **당신의 작업 지시**\n",
    "\n",
    "    기본 템플릿와 전체 스타일 컨셉을 바탕으로 블록 html 코드를 생성하세요. 당신의 목표는 아래 원칙에 따라 전문가 웹디자이너 수준의 html 코드로 만드는 것입니다.\n",
    "\n",
    "    1.  **독창적 스타일 제안:** `style_concept`을 참고하되, 블럭의 `block_type`과 내용에 가장 잘 어울리는 구체적인 디자인 스타일(예: 미니멀리즘, 타이포그래피 중심, 인포그래픽 스타일 등)을 스스로 생각하세요.\n",
    "    2.  **카피와 디자인의 조화:** 설득력 있게 다듬은 한글 카피가 디자인 요소와 어떻게 어우러져야 하는지 생각하세요.\n",
    "    3.  **최종 출력:** 위 모든 요소를 종합하여, 당신의 창의적인 생각을 html 코드로 즉시 변환하세요.\n",
    "\n",
    "    **주의**\n",
    "    최종 출력은 반드시 html 코드만을 반환해야 합니다.\n",
    "    \"\"\"\n",
    "\n",
    "    human_prompt_template = \"\"\"\n",
    "    **전반적인 스타일 컨셉을 따르세요:**\n",
    "    {style_concept}\n",
    "    **---**\n",
    "    **기본 템플릿과 들어가야 할 내용:**\n",
    "    {template_info}\n",
    "    \"\"\"\n",
    "    prompt = ChatPromptTemplate.from_messages([(\"system\", system_prompt), (\"human\", human_prompt_template)])\n",
    "    chain = prompt | enhancer_llm | StrOutputParser()\n",
    "    \n",
    "    html = chain.invoke({\n",
    "        \"style_concept\": style.model_dump_json(indent=2),\n",
    "        \"template_info\": block,\n",
    "    })\n",
    "    \n",
    "    # 강화된 프롬프트로 새로운 블럭 객체를 만들어 반환\n",
    "    return markdown_to_html(html)\n",
    "\n",
    "# -------------------------------------------------------------\n",
    "# 3. 콘셉트 html 템플릿 가져오기\n",
    "# -------------------------------------------------------------\n",
    "\n",
    "def enhance_blueprint_details(product_page: ProductPage) -> any:\n",
    "    style_concept = product_page.style_concept\n",
    "    concept_blocks = product_page.concept_blocks\n",
    "    results = []\n",
    "\n",
    "    for block in concept_blocks:\n",
    "        print('create block..', block.content)\n",
    "        search_results = collection.query(\n",
    "            query_texts=[block.concept_style],\n",
    "            where={\n",
    "                \"$and\": [\n",
    "                    {\"block_type\":block.block_type},\n",
    "                    {\"category\":\"생활용품\"} # 일단 고정\n",
    "                ]\n",
    "            },\n",
    "            n_results=3\n",
    "        )\n",
    "\n",
    "        distances = search_results['distances'][0]\n",
    "        templates = [x['template'] for x in search_results['metadatas'][0]]\n",
    "        \n",
    "        results.append({ \n",
    "            \"template\": [{ \"distance\": distances[i], \"html\": templates[i] } for i, _ in enumerate(distances)],\n",
    "            \"content\": block.content\n",
    "        })\n",
    "\n",
    "    html_results = []\n",
    "\n",
    "    for result in results:\n",
    "        print('create html..', result.content)\n",
    "        html_results.append(create_html_block(result, style_concept))\n",
    "\n",
    "    return html_results\n",
    "    \n",
    "\n"
   ]
  },
  {
   "cell_type": "code",
   "execution_count": 130,
   "id": "894898f7",
   "metadata": {},
   "outputs": [
    {
     "name": "stdout",
     "output_type": "stream",
     "text": [
      "부드러운 파스텔 색상과 자연을 연상시키는 디자인 요소를 활용하여, 감정의 흐름을 시각적으로 표현합니다. 사용자 경험을 강조하는 직관적인 레이아웃과 함께, 따뜻한 느낌의 폰트를 사용하여 친근감을 더합니다. Introduction\n",
      "각 기능의 독창성을 강조하기 위해, 각 기능에 맞는 아이콘과 그래픽 요소를 사용하여 시각적으로 매력적인 레이아웃을 구성합니다. 색상은 부드러운 톤을 유지하며, 사용자 친화적인 인터페이스를 제공합니다. KeyFeatures\n",
      "기술 사양을 명확하게 전달하기 위해, 표 형식으로 정리하여 가독성을 높입니다. 각 사양 항목은 아이콘과 함께 시각적으로 구분하여 사용자가 쉽게 이해할 수 있도록 디자인합니다. Specifications\n",
      "사용자 가이드는 단계별로 명확하게 설명하여, 사용자가 쉽게 따라할 수 있도록 돕습니다. 각 단계는 일러스트와 함께 제공하여 시각적인 이해를 돕습니다. UsageGuide\n",
      "자주 묻는 질문 섹션은 명확하고 간결하게 정보를 제공하여 사용자가 궁금증을 쉽게 해결할 수 있도록 합니다. 각 질문은 강조된 제목과 함께 제공하여 가독성을 높입니다. FAQ\n"
     ]
    }
   ],
   "source": [
    "results = enhance_blueprint_details(page_layout)"
   ]
  },
  {
   "cell_type": "code",
   "execution_count": 132,
   "id": "172dfbd4",
   "metadata": {},
   "outputs": [
    {
     "data": {
      "text/plain": [
       "['<div style=\"background: linear-gradient(to bottom, #d1e8e2, #f3e5f5); text-align: center; padding: 60px 20px; position: relative;\">    <img src=\"[부드러운 흰색 원형 오브제들]\" style=\"position: absolute; top: 0; left: 0; width: 100%; height: 100%; opacity: 0.5;\">    <div style=\"position: relative;\">        <h2 style=\"font-size: 28px; font-weight: bold; color: #5b8c7a; margin-top: 20px; font-family: \\'Noto Sans KR\\', sans-serif;\">AURA Smart Mood Speaker</h2>        <p style=\"font-size: 16px; color: #333; margin-top: 10px; font-family: \\'Helvetica\\', sans-serif;\">단순한 스피커가 아닌, 사용자의 감정 상태를 분석하여 최적의 음악과 조명을 제공합니다.</p>        <img src=\"[AURA Smart Mood Speaker 이미지]\" style=\"width: 60%; margin-top: 20px; border-radius: 15px; box-shadow: 0 4px 10px rgba(0, 0, 0, 0.1);\">        <div style=\"margin-top: 30px; padding: 20px; background-color: rgba(255, 255, 255, 0.8); border-radius: 10px;\">            <h3 style=\"font-size: 22px; color: #5b8c7a; font-weight: bold; margin: 0;\">바쁜 아침에는</h3>            <p style=\"font-size: 14px; color: #555; margin-top: 5px;\">활기찬 음악과 태양광과 유사한 조명으로 활력을!</p>            <h3 style=\"font-size: 22px; color: #5b8c7a; font-weight: bold; margin: 20px 0 0;\">고요한 저녁에는</h3>            <p style=\"font-size: 14px; color: #555; margin-top: 5px;\">차분한 연주곡과 은은한 조명으로 평온을 선사합니다.</p>        </div>    </div></div>',\n",
       " '<div style=\"background-color: #eaf6ff; padding: 40px 20px; border-radius: 15px; font-family: \\'Arial\\', sans-serif;\">    <h2 style=\"font-size: 24px; font-weight: bold; color: #005494; text-align: center;\">AURA의 혁신적인 기술</h2>    <p style=\"font-size: 16px; color: #555; text-align: center; margin-top: 10px;\">감성 조화로 당신의 삶을 변화시킵니다.</p>        <div style=\"margin-top: 30px; display: flex; flex-direction: column; align-items: center;\">        <div style=\"background-color: #fff; border-radius: 15px; padding: 20px; width: 90%; box-shadow: 0 4px 10px rgba(0, 0, 0, 0.1);\">            <h3 style=\"font-size: 20px; color: #000; margin-bottom: 10px;\">1. 실시간 감성 분석 AI, \\'Lumi\\'</h3>            <p style=\"font-size: 14px; color: #555;\">AURA의 핵심인 \\'Lumi\\' AI는 4개의 고감도 마이크 어레이를 통해 사용자의 음성을 분석하고, 미세한 감정 변화를 감지합니다. \"오늘 좀 피곤하네\"라는 혼잣말만으로도, AURA는 재충전에 도움이 되는 사운드와 조명 테라피를 제안합니다.</p>        </div>                <div style=\"background-color: #fff; border-radius: 15px; padding: 20px; width: 90%; margin-top: 20px; box-shadow: 0 4px 10px rgba(0, 0, 0, 0.1);\">            <h3 style=\"font-size: 20px; color: #000; margin-bottom: 10px;\">2. 360° 몰입형 공간 음향</h3>            <p style=\"font-size: 14px; color: #555;\">독일의 명품 오디오 브랜드 \\'Klang & Stille\\'과의 협업으로 탄생한 3개의 풀레인지 드라이버와 1개의 듀얼 패시브 라디에이터가 360° 모든 방향으로 균일하고 풍부한 사운드를 전달합니다. 청취자의 위치를 파악해 실시간으로 사운드를 최적화하는 \\'어댑티브 EQ\\' 기술이 탑재되어 있습니다.</p>        </div>                <div style=\"background-color: #fff; border-radius: 15px; padding: 20px; width: 90%; margin-top: 20px; box-shadow: 0 4px 10px rgba(0, 0, 0, 0.1);\">            <h3 style=\"font-size: 20px; color: #000; margin-bottom: 10px;\">3. 1,600만 컬러 다이나믹 앰비언트 라이트</h3>            <p style=\"font-size: 14px; color: #555;\">음악의 비트와 리듬에 맞춰 춤추는 라이트 쇼부터, 실제 일출과 일몰의 색 변화를 그대로 재현하는 \\'서카디안 리듬 모드\\'까지 지원합니다. 아침에는 부드러운 주황빛으로 시작해 정오에는 밝은 백색광으로, 저녁에는 따뜻한 색감으로 자동 변경되어 건강한 생체리듬 유지를 돕습니다.</p>        </div>                <div style=\"background-color: #fff; border-radius: 15px; padding: 20px; width: 90%; margin-top: 20px; box-shadow: 0 4px 10px rgba(0, 0, 0, 0.1);\">            <h3 style=\"font-size: 20px; color: #000; margin-bottom: 10px;\">4. 차세대 스마트홈 허브</h3>            <p style=\"font-size: 14px; color: #555;\">최신 통신 표준인 Matter와 Thread를 동시 지원하여, 집 안의 다른 스마트 기기들을 위한 강력하고 안정적인 허브 역할을 수행합니다. 조명, 온도 조절기, 블라인드 등을 AURA에게 음성으로 손쉽게 제어할 수 있습니다.</p>        </div>                <div style=\"background-color: #fff; border-radius: 15px; padding: 20px; width: 90%; margin-top: 20px; box-shadow: 0 4px 10px rgba(0, 0, 0, 0.1);\">            <h3 style=\"font-size: 20px; color: #000; margin-bottom: 10px;\">5. 개인정보 보호 최우선 설계</h3>            <p style=\"font-size: 14px; color: #555;\">모든 음성 데이터는 기기 내부의 \\'AURA Hexa-Core NPU\\' 칩셋에서 처리되는 것을 원칙으로 합니다. 또한, 원터치로 마이크를 물리적으로 차단하는 프라이버시 스위치가 탑재되어 있습니다.</p>        </div>    </div></div>',\n",
       " '<div style=\"background-color: #f9f9f9; padding: 40px; font-family: \\'Helvetica\\', sans-serif;\">    <h2 style=\"text-align: center; font-size: 28px; color: #003366; margin-bottom: 30px;\">오디오 및 조명 기술</h2>        <div style=\"background-color: #ffffff; border-radius: 8px; padding: 20px; box-shadow: 0 4px 10px rgba(0, 0, 0, 0.1);\">        <h3 style=\"font-size: 24px; color: #003366; border-bottom: 2px solid #e0e0e0; padding-bottom: 10px;\">오디오</h3>        <ul style=\"list-style-type: none; padding: 0; font-size: 16px; color: #555;\">            <li><strong>드라이버:</strong> 1.5인치 풀레인지 드라이버 x 3, 듀얼 포스 캔슬링 패시브 라디에이터 x 1</li>            <li><strong>주파수 응답:</strong> 55Hz - 22,000Hz</li>            <li><strong>오디오 기술:</strong> 360° 공간 음향, 어댑티브 EQ, Dolby Atmos 지원</li>        </ul>    </div>    <div style=\"background-color: #ffffff; border-radius: 8px; padding: 20px; margin-top: 20px; box-shadow: 0 4px 10px rgba(0, 0, 0, 0.1);\">        <h3 style=\"font-size: 24px; color: #003366; border-bottom: 2px solid #e0e0e0; padding-bottom: 10px;\">조명</h3>        <ul style=\"list-style-type: none; padding: 0; font-size: 16px; color: #555;\">            <li><strong>LED:</strong> 90개의 커스텀 RGBW LED</li>            <li><strong>색상 표현:</strong> 1,600만 색상</li>            <li><strong>최대 밝기:</strong> 800 루멘</li>        </ul>    </div>    <div style=\"background-color: #ffffff; border-radius: 8px; padding: 20px; margin-top: 20px; box-shadow: 0 4px 10px rgba(0, 0, 0, 0.1);\">        <h3 style=\"font-size: 24px; color: #003366; border-bottom: 2px solid #e0e0e0; padding-bottom: 10px;\">연결성</h3>        <ul style=\"list-style-type: none; padding: 0; font-size: 16px; color: #555;\">            <li><strong>Wi-Fi:</strong> Wi-Fi 6E (802.11ax)</li>            <li><strong>Bluetooth:</strong> Bluetooth 5.3</li>            <li><strong>스마트홈 프로토콜:</strong> Matter, Thread, Zigbee</li>        </ul>    </div>    <div style=\"background-color: #ffffff; border-radius: 8px; padding: 20px; margin-top: 20px; box-shadow: 0 4px 10px rgba(0, 0, 0, 0.1);\">        <h3 style=\"font-size: 24px; color: #003366; border-bottom: 2px solid #e0e0e0; padding-bottom: 10px;\">AI 및 센서</h3>        <ul style=\"list-style-type: none; padding: 0; font-size: 16px; color: #555;\">            <li><strong>프로세서:</strong> AURA Hexa-Core NPU (On-Device AI)</li>            <li><strong>마이크:</strong> 4-mic Far-field Array (빔포밍 기술 적용)</li>            <li><strong>센서:</strong> 온도 센서, 습도 센서, 조도 센서</li>        </ul>    </div>    <div style=\"background-color: #ffffff; border-radius: 8px; padding: 20px; margin-top: 20px; box-shadow: 0 4px 10px rgba(0, 0, 0, 0.1);\">        <h3 style=\"font-size: 24px; color: #003366; border-bottom: 2px solid #e0e0e0; padding-bottom: 10px;\">규격</h3>        <ul style=\"list-style-type: none; padding: 0; font-size: 16px; color: #555;\">            <li><strong>크기:</strong> 180mm (높이) x 140mm (직경)</li>            <li><strong>무게:</strong> 1.2 kg</li>            <li><strong>소재:</strong> 재활용 알루미늄, Kvadrat 어쿠스틱 패브릭</li>        </ul>    </div></div>',\n",
       " '<div style=\"padding: 60px 20px; background-color: #f0f8ff; max-width: 800px; margin: auto; border-radius: 15px; box-shadow: 0 4px 10px rgba(0, 0, 0, 0.1);\">    <h3 style=\"font-family: \\'Helvetica\\', sans-serif; font-weight: bold; font-size: 24px; color: #005aab; text-align: center;\">AURA Smart Mood Speaker 사용법</h3>    <p style=\"font-family: \\'Noto Sans KR\\', sans-serif; font-size: 16px; color: #555; margin-top: 15px; text-align: center;\">        AURA Smart Mood Speaker를 사용하기 위해서는 먼저 전원을 연결하고, 스마트폰 앱을 통해 초기 설정을 진행합니다.         이후 음성 명령이나 앱을 통해 음악과 조명을 제어할 수 있습니다.         예를 들어, \"오라, 저녁 모드로 바꿔줘\"라고 말하면 AURA가 자동으로 저녁에 적합한 음악과 조명으로 설정해 줍니다.    </p>    <hr style=\"border: 1px solid #ddd; margin: 40px 0;\"/>    <h3 style=\"font-family: \\'Helvetica\\', sans-serif; font-weight: bold; font-size: 24px; color: #005aab; text-align: center;\">사용 시 주의사항</h3>    <ul style=\"font-family: \\'Noto Sans KR\\', sans-serif; font-size: 14px; color: #555; margin-top: 15px; padding-left: 20px; text-align: left;\">        <li style=\"margin-bottom: 10px;\">전원 연결 시 안전하게 연결해 주세요.</li>        <li style=\"margin-bottom: 10px;\">물이나 습기에 노출되지 않도록 주의하세요.</li>        <li style=\"margin-bottom: 10px;\">앱을 통해 설정을 변경할 때는 항상 최신 버전을 사용하세요.</li>        <li style=\"margin-bottom: 10px;\">기기를 청소할 때는 부드러운 천을 사용하세요.</li>    </ul></div>',\n",
       " '<div style=\"background-color: #f9f9f9; padding: 30px; border-radius: 8px; box-shadow: 0 2px 10px rgba(0, 0, 0, 0.1);\">    <div style=\"text-align: center; margin-bottom: 20px;\">        <img src=\"[미소라이프 고객센터 로고]\" style=\"height: 50px; margin-bottom: 10px;\">        <p style=\"font-size: 14px; color: #555; margin-top: 5px;\">070-4335-7823으로 문자 문의 부탁드립니다.</p>    </div>    <div style=\"border-top: 1px dashed #ccc; border-bottom: 1px dashed #ccc; padding: 15px 0; margin-bottom: 15px;\">        <h4 style=\"font-size: 16px; font-weight: bold; color: #e74c3c;\">업무/답안안내</h4>        <p style=\"font-size: 14px; color: #666;\">고객센터 10:00~17:00 (점심시간 12:00~01:00)</p>    </div>    <div style=\"border-bottom: 1px dashed #ccc; padding-bottom: 15px; margin-bottom: 15px;\">        <h4 style=\"font-size: 16px; font-weight: bold; color: #3498db;\">배송안내</h4>        <p style=\"font-size: 14px; color: #666;\">택배는 결제 완료 후 1~3일 안에 배송됩니다. 당일출고 마감시간은 오후 02:00까지 주문건에 대하여 발송됩니다. CJ대한통운을 이용합니다.</p>    </div>    <div style=\"border-bottom: 1px dashed #ccc; padding-bottom: 15px; margin-bottom: 15px;\">        <h4 style=\"font-size: 16px; font-weight: bold; color: #2ecc71;\">반품/교환안내</h4>        <p style=\"font-size: 14px; color: #666;\">업체에서 주문 확인 이후에는 주소변경 및 취소 절대 불가합니다. 반품/교환은 제품 수령 후 일주일(7일) 이내에 반품/교환 가능합니다.</p>    </div>    <div style=\"border-bottom: 1px dashed #ccc; padding-bottom: 15px; margin-bottom: 15px;\">        <h4 style=\"font-size: 16px; font-weight: bold; color: #f39c12;\">제주도/도서산간 배송안내</h4>        <p style=\"font-size: 14px; color: #666;\">제주도를 포함한 도서산간지역은 별도의 추가 배송비가 발생됩니다. 제주지역 추가배송비 10,000원 / 도서산간지역 추가배송비 20,000원</p>    </div>    <div style=\"margin-top: 20px; padding: 15px; background-color: #e0f7fa; border-radius: 5px;\">        <h4 style=\"font-size: 16px; font-weight: bold; color: #00796b;\">자주 묻는 질문</h4>        <p style=\"font-size: 14px; color: #333;\"><strong>Q: AURA 구독 서비스가 필요한가요?</strong><br>A: 기본적인 AI 음악/조명 큐레이션 및 스마트홈 기능은 모두 무료입니다. 다만, 전문 심리상담사와 협업하여 제작된 \\'프리미엄 마인드풀니스\\' 콘텐츠(가이드 명상, 집중력 향상 사운드 등)는 월 4,900원의 구독이 필요합니다.</p>        <p style=\"font-size: 14px; color: #333;\"><strong>Q: 기존에 사용하던 스포티파이, 유튜브 뮤직과 연동되나요?</strong><br>A: 네, 스포티파이 커넥트와 구글 캐스트를 모두 지원하여 기존에 사용하시던 앱에서 손쉽게 음악을 재생할 수 있습니다.</p>        <p style=\"font-size: 14px; color: #333;\"><strong>Q: 조명만 끄고 음악만 들을 수 있나요?</strong><br>A: 네, \"오라, 조명 꺼줘\" 또는 앱을 통해 언제든지 조명과 음악을 개별적으로 제어할 수 있습니다.</p>    </div></div>']"
      ]
     },
     "execution_count": 132,
     "metadata": {},
     "output_type": "execute_result"
    }
   ],
   "source": [
    "results"
   ]
  },
  {
   "cell_type": "code",
   "execution_count": 138,
   "id": "d1274486",
   "metadata": {},
   "outputs": [
    {
     "name": "stdout",
     "output_type": "stream",
     "text": [
      "<div style=\"background-color: #f9f9f9; padding: 30px; border-radius: 8px; box-shadow: 0 2px 10px rgba(0, 0, 0, 0.1);\">    <div style=\"text-align: center; margin-bottom: 20px;\">        <img src=\"[미소라이프 고객센터 로고]\" style=\"height: 50px; margin-bottom: 10px;\">        <p style=\"font-size: 14px; color: #555; margin-top: 5px;\">070-4335-7823으로 문자 문의 부탁드립니다.</p>    </div>    <div style=\"border-top: 1px dashed #ccc; border-bottom: 1px dashed #ccc; padding: 15px 0; margin-bottom: 15px;\">        <h4 style=\"font-size: 16px; font-weight: bold; color: #e74c3c;\">업무/답안안내</h4>        <p style=\"font-size: 14px; color: #666;\">고객센터 10:00~17:00 (점심시간 12:00~01:00)</p>    </div>    <div style=\"border-bottom: 1px dashed #ccc; padding-bottom: 15px; margin-bottom: 15px;\">        <h4 style=\"font-size: 16px; font-weight: bold; color: #3498db;\">배송안내</h4>        <p style=\"font-size: 14px; color: #666;\">택배는 결제 완료 후 1~3일 안에 배송됩니다. 당일출고 마감시간은 오후 02:00까지 주문건에 대하여 발송됩니다. CJ대한통운을 이용합니다.</p>    </div>    <div style=\"border-bottom: 1px dashed #ccc; padding-bottom: 15px; margin-bottom: 15px;\">        <h4 style=\"font-size: 16px; font-weight: bold; color: #2ecc71;\">반품/교환안내</h4>        <p style=\"font-size: 14px; color: #666;\">업체에서 주문 확인 이후에는 주소변경 및 취소 절대 불가합니다. 반품/교환은 제품 수령 후 일주일(7일) 이내에 반품/교환 가능합니다.</p>    </div>    <div style=\"border-bottom: 1px dashed #ccc; padding-bottom: 15px; margin-bottom: 15px;\">        <h4 style=\"font-size: 16px; font-weight: bold; color: #f39c12;\">제주도/도서산간 배송안내</h4>        <p style=\"font-size: 14px; color: #666;\">제주도를 포함한 도서산간지역은 별도의 추가 배송비가 발생됩니다. 제주지역 추가배송비 10,000원 / 도서산간지역 추가배송비 20,000원</p>    </div>    <div style=\"margin-top: 20px; padding: 15px; background-color: #e0f7fa; border-radius: 5px;\">        <h4 style=\"font-size: 16px; font-weight: bold; color: #00796b;\">자주 묻는 질문</h4>        <p style=\"font-size: 14px; color: #333;\"><strong>Q: AURA 구독 서비스가 필요한가요?</strong><br>A: 기본적인 AI 음악/조명 큐레이션 및 스마트홈 기능은 모두 무료입니다. 다만, 전문 심리상담사와 협업하여 제작된 '프리미엄 마인드풀니스' 콘텐츠(가이드 명상, 집중력 향상 사운드 등)는 월 4,900원의 구독이 필요합니다.</p>        <p style=\"font-size: 14px; color: #333;\"><strong>Q: 기존에 사용하던 스포티파이, 유튜브 뮤직과 연동되나요?</strong><br>A: 네, 스포티파이 커넥트와 구글 캐스트를 모두 지원하여 기존에 사용하시던 앱에서 손쉽게 음악을 재생할 수 있습니다.</p>        <p style=\"font-size: 14px; color: #333;\"><strong>Q: 조명만 끄고 음악만 들을 수 있나요?</strong><br>A: 네, \"오라, 조명 꺼줘\" 또는 앱을 통해 언제든지 조명과 음악을 개별적으로 제어할 수 있습니다.</p>    </div></div>\n"
     ]
    }
   ],
   "source": [
    "print(results[4])"
   ]
  },
  {
   "cell_type": "code",
   "execution_count": 31,
   "id": "366d27a5",
   "metadata": {},
   "outputs": [],
   "source": [
    "result = generate_html_for_block(product_page_layout_simple.blocks[0], product_page_layout_simple.style_concept)"
   ]
  },
  {
   "cell_type": "code",
   "execution_count": 32,
   "id": "7de2154a",
   "metadata": {},
   "outputs": [
    {
     "data": {
      "text/plain": [
       "'```html\\n<section>\\n    <style>\\n        body {\\n            font-family: \\'Roboto\\', sans-serif;\\n            background-color: #F0E68C;\\n            margin: 0;\\n            padding: 20px;\\n        }\\n        .key-features {\\n            display: grid;\\n            grid-template-columns: repeat(3, 1fr);\\n            gap: 24px;\\n        }\\n        .feature-card {\\n            border: 1px solid #EAECEF;\\n            border-radius: 16px;\\n            background-color: white;\\n            padding: 20px;\\n            text-align: center;\\n            box-shadow: 0 2px 10px rgba(0, 0, 0, 0.1);\\n        }\\n        h3 {\\n            color: #B2DFF7;\\n        }\\n        p {\\n            color: #D1C6E7;\\n        }\\n    </style>\\n    <div class=\"key-features\">\\n        <div class=\"feature-card\">\\n            <img src=\"[DALLE_IMAGE: minimalist line icon for 3-speed wind control]\" alt=\"3-Speed Wind Control Icon\">\\n            <h3>3-Speed Wind Control</h3>\\n            <p>Adjust the airflow to your comfort level.<br>Perfect for any environment.</p>\\n        </div>\\n        <div class=\"feature-card\">\\n            <img src=\"[DALLE_IMAGE: minimalist line icon for C-Type charging]\" alt=\"C-Type Charging Icon\">\\n            <h3>C-Type Charging</h3>\\n            <p>Convenient and fast charging for your on-the-go lifestyle.<br>Stay powered up effortlessly.</p>\\n        </div>\\n        <div class=\"feature-card\">\\n            <img src=\"[DALLE_IMAGE: minimalist line icon for up to 10 hours of use]\" alt=\"Up to 10 Hours of Use Icon\">\\n            <h3>Up to 10 Hours of Use</h3>\\n            <p>Enjoy long-lasting cooling without frequent recharges.<br>Stay cool all day long.</p>\\n        </div>\\n    </div>\\n</section>\\n```'"
      ]
     },
     "execution_count": 32,
     "metadata": {},
     "output_type": "execute_result"
    }
   ],
   "source": [
    "result"
   ]
  }
 ],
 "metadata": {
  "kernelspec": {
   "display_name": "venv",
   "language": "python",
   "name": "python3"
  },
  "language_info": {
   "codemirror_mode": {
    "name": "ipython",
    "version": 3
   },
   "file_extension": ".py",
   "mimetype": "text/x-python",
   "name": "python",
   "nbconvert_exporter": "python",
   "pygments_lexer": "ipython3",
   "version": "3.10.12"
  }
 },
 "nbformat": 4,
 "nbformat_minor": 5
}
