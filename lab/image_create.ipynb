{
 "cells": [
  {
   "cell_type": "code",
   "execution_count": 4,
   "id": "4ec9719a",
   "metadata": {},
   "outputs": [
    {
     "name": "stdout",
     "output_type": "stream",
     "text": [
      "tgp_v1_7Ft\n"
     ]
    }
   ],
   "source": [
    "import os\n",
    "from dotenv import load_dotenv\n",
    "\n",
    "# .env 파일에서 환경 변수를 로드합니다.\n",
    "load_dotenv()\n",
    "\n",
    "# os.environ을 사용하여 환경 변수를 가져옵니다.\n",
    "TOGETHER_API_KEY = os.getenv(\"TOGETHER_API_KEY\")\n",
    "\n",
    "if not TOGETHER_API_KEY:\n",
    "    raise ValueError(\"TOGETHER_API_KEY 환경 변수가 설정되어 있지 않습니다.\")\n",
    "\n",
    "print(TOGETHER_API_KEY[:10]) # 테스트 후 삭제"
   ]
  },
  {
   "cell_type": "code",
   "execution_count": 5,
   "id": "4b477ee2",
   "metadata": {},
   "outputs": [],
   "source": [
    "from together import Together\n",
    "\n",
    "# size: small(256*256), default(512*512), large(1024*1024)\n",
    "def create_image(prompt: str, size: str = \"default\") -> any:\n",
    "    client = Together(\n",
    "        api_key=TOGETHER_API_KEY,\n",
    "    )\n",
    "    size_list = {\n",
    "        \"small\": [256, 256],\n",
    "        \"default\": [512, 512],\n",
    "        \"large\": [1024, 1024]\n",
    "    }\n",
    "\n",
    "    \"\"\"\n",
    "    Organization\t    Model Name\t                Model String for API\t                Default steps   pay($)\n",
    "    Black Forest Labs\tFlux.1 [schnell] (free)*\tblack-forest-labs/FLUX.1-schnell-Free\tN/A             N/A\n",
    "    Black Forest Labs\tFlux.1 [schnell] (Turbo)\tblack-forest-labs/FLUX.1-schnell\t    4               0.0027\n",
    "    Black Forest Labs\tFlux.1 Dev\t                black-forest-labs/FLUX.1-dev\t        28              0.025\n",
    "    Black Forest Labs\tFlux.1 Canny\t            black-forest-labs/FLUX.1-canny*\t        28              0.025\n",
    "    Black Forest Labs\tFlux.1 Depth\t            black-forest-labs/FLUX.1-depth*\t        28              0.025\n",
    "    Black Forest Labs\tFlux.1 Redux\t            black-forest-labs/FLUX.1-redux*\t        28              0.025\n",
    "    Black Forest Labs\tFlux1.1 [pro]\t            black-forest-labs/FLUX.1.1-pro\t        -               0.04\n",
    "    Black Forest Labs\tFlux.1 [pro]\t            black-forest-labs/FLUX.1-pro\t        28              0.05\n",
    "    Black Forest Labs\tFlux .1 Kontext [pro]\t    black-forest-labs/FLUX.1-kontext-pro\t28              0.04\n",
    "    Black Forest Labs\tFlux .1 Kontext [max]\t    black-forest-labs/FLUX.1-kontext-max\t28              0.08\n",
    "    Black Forest Labs\tFlux .1 Kontext [dev]\t    black-forest-labs/FLUX.1-kontext-dev\t28              0.025\n",
    "    \"\"\"\n",
    "\n",
    "    # model_name, steps\n",
    "    models = {\n",
    "        \"free\": [\"FLUX.1-schnell-Free\", None],\n",
    "        \"schnell\": [\"FLUX.1-schnell\", 4],\n",
    "        \"dev\": [\"FLUX.1-dev\", 28],\n",
    "        \"kontext-dev\": [\"FLUX.1-kontext-dev\", 28],\n",
    "    }\n",
    "\n",
    "    model_key = \"free\"\n",
    "\n",
    "    response = client.images.generate(\n",
    "        model=f\"black-forest-labs/{models[model_key][0]}\",\n",
    "        steps=models[model_key][1],\n",
    "        prompt=prompt,\n",
    "        width=size_list[size][0],\n",
    "        height=size_list[size][1]\n",
    "    )\n",
    "\n",
    "    return response\n"
   ]
  },
  {
   "cell_type": "code",
   "execution_count": 6,
   "id": "9ce6af2e",
   "metadata": {},
   "outputs": [],
   "source": [
    "res = create_image(prompt=\"Speaker image, product model shot\")"
   ]
  },
  {
   "cell_type": "code",
   "execution_count": 7,
   "id": "7f5dac8e",
   "metadata": {},
   "outputs": [
    {
     "data": {
      "text/plain": [
       "ImageResponse(id='o57ok3P-2kFHot-96734f814d9d723a-PDX', model='black-forest-labs/FLUX.1-schnell-Free', object='list', data=[ImageChoicesData(index=0, b64_json=None, url='https://api.together.ai/shrt/AAekTe5LN0SUAMGK', timings={'inference': 0.479994114022702})])"
      ]
     },
     "execution_count": 7,
     "metadata": {},
     "output_type": "execute_result"
    }
   ],
   "source": [
    "res"
   ]
  },
  {
   "cell_type": "code",
   "execution_count": 8,
   "id": "a1d74c8b",
   "metadata": {},
   "outputs": [],
   "source": [
    "# size: small(256*256), default(512*512), large(1024*1024)\n",
    "def reshape_image(prompt: str, image_url: str, size: str = \"default\") -> any:\n",
    "    client = Together(\n",
    "        api_key=TOGETHER_API_KEY,\n",
    "    )\n",
    "    size_list = {\n",
    "        \"small\": [256, 256],\n",
    "        \"default\": [512, 512],\n",
    "        \"large\": [1024, 1024]\n",
    "    }\n",
    "\n",
    "    \"\"\"\n",
    "    Organization\t    Model Name\t                Model String for API\t                Default steps   pay($)\n",
    "    Black Forest Labs\tFlux.1 [schnell] (free)*\tblack-forest-labs/FLUX.1-schnell-Free\tN/A             N/A\n",
    "    Black Forest Labs\tFlux.1 [schnell] (Turbo)\tblack-forest-labs/FLUX.1-schnell\t    4               0.0027\n",
    "    Black Forest Labs\tFlux.1 Dev\t                black-forest-labs/FLUX.1-dev\t        28              0.025\n",
    "    Black Forest Labs\tFlux.1 Canny\t            black-forest-labs/FLUX.1-canny*\t        28              0.025\n",
    "    Black Forest Labs\tFlux.1 Depth\t            black-forest-labs/FLUX.1-depth*\t        28              0.025\n",
    "    Black Forest Labs\tFlux.1 Redux\t            black-forest-labs/FLUX.1-redux*\t        28              0.025\n",
    "    Black Forest Labs\tFlux1.1 [pro]\t            black-forest-labs/FLUX.1.1-pro\t        -               0.04\n",
    "    Black Forest Labs\tFlux.1 [pro]\t            black-forest-labs/FLUX.1-pro\t        28              0.05\n",
    "    Black Forest Labs\tFlux .1 Kontext [pro]\t    black-forest-labs/FLUX.1-kontext-pro\t28              0.04\n",
    "    Black Forest Labs\tFlux .1 Kontext [max]\t    black-forest-labs/FLUX.1-kontext-max\t28              0.08\n",
    "    Black Forest Labs\tFlux .1 Kontext [dev]\t    black-forest-labs/FLUX.1-kontext-dev\t28              0.025\n",
    "    \"\"\"\n",
    "\n",
    "    # model_name, steps\n",
    "    models = {\n",
    "        \"kontext-dev\": [\"FLUX.1-kontext-dev\", 28],\n",
    "    }\n",
    "\n",
    "    model_key = \"kontext-dev\"\n",
    "\n",
    "    response = client.images.generate(\n",
    "        model=f\"black-forest-labs/{models[model_key][0]}\",\n",
    "        steps=models[model_key][1],\n",
    "        prompt=prompt,\n",
    "        width=size_list[size][0],\n",
    "        height=size_list[size][0],\n",
    "        image_url=image_url,\n",
    "    )\n",
    "\n",
    "    return response\n"
   ]
  },
  {
   "cell_type": "code",
   "execution_count": 9,
   "id": "41a0f235",
   "metadata": {},
   "outputs": [],
   "source": [
    "r_res = reshape_image(prompt=\"Natural background placement and situation to highlight the product, product model shot\", image_url=res.data[0].url)"
   ]
  },
  {
   "cell_type": "code",
   "execution_count": 8,
   "id": "83debbd7",
   "metadata": {},
   "outputs": [],
   "source": [
    "import requests\n",
    "\n",
    "# 확장자 제외한 이름 사용\n",
    "def download_image(url: str, filename: str | None = None, path=\"./_data/images\") -> any:\n",
    "    last_part = url.split('/')[-1]\n",
    "    filename = filename if filename != None else last_part\n",
    "    filepath = f'{path}/{filename}.jpg'\n",
    "\n",
    "    try:\n",
    "        response = requests.get(url)\n",
    "        # 요청 성공 여부 확인\n",
    "        if response.status_code == 200:\n",
    "            # 'wb' (write binary) 모드로 파일을 열고 이미지 데이터를 씀\n",
    "            with open(filepath, 'wb') as f:\n",
    "                f.write(response.content)\n",
    "            print(f\"이미지 다운로드 완료: {filepath}\")\n",
    "        else:\n",
    "            print(f\"오류 발생: HTTP {response.status_code}\")\n",
    "    except Exception as e:\n",
    "        print(f\"다운로드 중 오류 발생: {e}\")"
   ]
  },
  {
   "cell_type": "code",
   "execution_count": 9,
   "id": "59589c9f",
   "metadata": {},
   "outputs": [
    {
     "name": "stdout",
     "output_type": "stream",
     "text": [
      "이미지 다운로드 완료: ./_data/images/ceHHMdN8AxgCnYxD.jpg\n"
     ]
    }
   ],
   "source": [
    "download_image(url=res.data[0].url)"
   ]
  },
  {
   "cell_type": "code",
   "execution_count": 10,
   "id": "3ed47d5c",
   "metadata": {},
   "outputs": [
    {
     "name": "stdout",
     "output_type": "stream",
     "text": [
      "이미지 다운로드 완료: ./_data/images/Ei70dDXI2xkxgjVP.jpg\n"
     ]
    }
   ],
   "source": [
    "download_image(url=r_res.data[0].url)"
   ]
  },
  {
   "cell_type": "code",
   "execution_count": null,
   "id": "7c25cc63",
   "metadata": {},
   "outputs": [],
   "source": []
  }
 ],
 "metadata": {
  "kernelspec": {
   "display_name": "venv",
   "language": "python",
   "name": "python3"
  },
  "language_info": {
   "codemirror_mode": {
    "name": "ipython",
    "version": 3
   },
   "file_extension": ".py",
   "mimetype": "text/x-python",
   "name": "python",
   "nbconvert_exporter": "python",
   "pygments_lexer": "ipython3",
   "version": "3.10.12"
  }
 },
 "nbformat": 4,
 "nbformat_minor": 5
}
